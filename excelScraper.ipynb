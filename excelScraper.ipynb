{
 "cells": [
  {
   "cell_type": "code",
   "execution_count": 60,
   "metadata": {},
   "outputs": [],
   "source": [
    "import pandas as pd\n",
    "\n",
    "sheets = pd.ExcelFile('data/2018bball.xlsx').sheet_names\n",
    "sheets = [sheets[0]] + sheets[3:] "
   ]
  },
  {
   "cell_type": "code",
   "execution_count": 132,
   "metadata": {
    "scrolled": true
   },
   "outputs": [],
   "source": [
    "\n",
    "firstClean = lambda x: x.replace('.', '').replace('Vs', 'vs').split('vs')\n",
    "\n",
    "for sheet in sheets:\n",
    "\n",
    "\n",
    "    df = pd.read_excel('data/2018bball.xlsx', header=6, sheet_name=sheet)\n",
    "    df.columns = [x.replace(' ', '') for x in df.columns]\n",
    "    df = df[df.TEAM.notnull()]\n",
    "    df = df[['DATE', 'TEAM', 'TIME', 'LOCATION']]\n",
    "    df.DATE = pd.to_datetime(df.DATE)\n",
    "    df['TEAM1'] = df.TEAM.apply(lambda x: firstClean(x)[0].strip())\n",
    "    df['TEAM2'] = df.TEAM.apply(lambda x: firstClean(x)[1].strip() if len(firstClean(x)) > 1 else x.strip())\n",
    "    df['TIME'] = df.TIME.apply(lambda x: str(x))\n",
    "\n",
    "    obj = {}\n",
    "    for x in df.DATE.apply(lambda x: x.strftime('%Y-%m-%d')).unique():\n",
    "        sliced = df[df.DATE==x]\n",
    "        sliced = sliced[sliced.columns.drop('DATE')]\n",
    "        i = 0\n",
    "        events = []\n",
    "        while i < len(sliced):\n",
    "            ev = sliced.iloc[i].to_dict()\n",
    "            ev[\"type\"] = \"Game\"\n",
    "            ev[\"team1score\"] = \"na\"\n",
    "            ev[\"team2score\"] = \"na\"\n",
    "            events += [ev]\n",
    "            i += 1 \n",
    "        obj[x] = {\"events\": events}\n",
    "\n",
    "\n",
    "    \n",
    "    \n",
    "      \n",
    "    with open('cleaned_files/' + sheet + '.json', 'w') as outfile:\n",
    "        json.dump(obj, outfile)\n",
    "    \n",
    "    \n",
    "    \n",
    "    "
   ]
  },
  {
   "cell_type": "markdown",
   "metadata": {},
   "source": [
    "## Working on Roster Files"
   ]
  },
  {
   "cell_type": "code",
   "execution_count": 138,
   "metadata": {},
   "outputs": [],
   "source": [
    "filename = 'data/2019bballroster.xlsx'\n",
    "sheets = pd.ExcelFile(filename).sheet_names\n"
   ]
  },
  {
   "cell_type": "code",
   "execution_count": 263,
   "metadata": {},
   "outputs": [],
   "source": [
    "def getDF(sheet):\n",
    "    \n",
    "    print('loading up ' + sheet)\n",
    "   \n",
    "    i = 0\n",
    "    while 'Name' not in pd.read_excel(filename, sheet_name=sheet, header = i).columns.tolist():\n",
    "        print('incrementing')\n",
    "        i += 1\n",
    "    df = pd.read_excel(filename, header = i, sheet_name = sheet)\n",
    "    print(df.columns.tolist())\n",
    "    if 'Name' not in df.columns:\n",
    "        df = pd.read_excel(filename, sheet_name = sheet)\n",
    "    df.columns = list(map(lambda x: 'Telephone Number' if x.strip() == 'Telephone Numer' else x.strip(), df.columns.tolist()))\n",
    "    return df "
   ]
  },
  {
   "cell_type": "code",
   "execution_count": 272,
   "metadata": {},
   "outputs": [
    {
     "name": "stdout",
     "output_type": "stream",
     "text": [
      "loading up All Saints-Small Fry 3rd grade\n",
      "incrementing\n",
      "incrementing\n",
      "['Name', 'Telephone Numer ', 'Date of Birth ']\n",
      "loading up All Saints-Small Fry 4th grade \n",
      "incrementing\n",
      "incrementing\n",
      "['Name', 'Telephone Numer ', 'Date of Birth ']\n",
      "loading up Knicks - Grammar \n",
      "incrementing\n",
      "incrementing\n",
      "['Name', 'Telephone Numer ', 'Date of Birth ']\n",
      "loading up Warriors - Grammar\n",
      "['Name', 'Telephone Numer ', 'Date of Birth ']\n",
      "loading up Nets - Grammar \n",
      "['Name', 'Telephone Numer ', 'Date of Birth ']\n",
      "loading up Small Fry - PAL 4\n",
      "['Name', 'Telephone Numer ', 'Date of Birth ']\n",
      "loading up Mustard Seed Junior- Grammar \n",
      "['Name', 'Telephone Numer ', 'Date of Birth ', 'E-mail Address ']\n",
      "loading up Mustard Seed  - Senior - Gramma\n",
      "['Name', 'Telephone Numer ', 'Date of Birth ', 'E-mail Address ']\n",
      "loading up Hud. School 6th Gr Middle Div. \n",
      "['Name', 'Telephone Numer ', 'Date of Birth ', 'E-mail Address ']\n",
      "loading up Hud School 7th-8th Gr. Grammar\n",
      "incrementing\n",
      "['Name', 'Telephone Numer ', 'Date of Birth ', 'E-mail Address ']\n",
      "loading up ECS- Small Fry 3rd Grade Green\n",
      "incrementing\n",
      "incrementing\n",
      "incrementing\n",
      "['Name', 'Telephone Numer ', 'Date of Birth ', 'E-mail Address ']\n",
      "loading up ECS - Small Fry 3rd grade White\n",
      "incrementing\n",
      "incrementing\n",
      "incrementing\n",
      "['Name', 'Telephone Numer ', 'Date of Birth ', 'E-mail Address ']\n",
      "loading up ECS-Small Fry 4th grade White\n",
      "incrementing\n",
      "incrementing\n",
      "incrementing\n",
      "['Name', 'Telephone Numer ', 'Date of Birth ', 'E-mail Address ']\n",
      "loading up ECS Small Fry 4th Grade Green\n",
      "incrementing\n",
      "incrementing\n",
      "incrementing\n",
      "['Name', 'Telephone Numer ', 'Date of Birth ', 'E-mail Address ']\n",
      "loading up ECS-5th Grade Mid. Div. White\n",
      "incrementing\n",
      "incrementing\n",
      "incrementing\n",
      "['Name', 'Telephone Numer ', 'Date of Birth ', 'E-mail Address ']\n",
      "loading up ESC -5th Grade Mid. Div Green\n",
      "incrementing\n",
      "incrementing\n",
      "incrementing\n",
      "['Name', 'Telephone Numer ', 'Date of Birth ', 'E-mail Address ']\n",
      "loading up ECS - 6th Grade Mid Div. \n",
      "incrementing\n",
      "incrementing\n",
      "incrementing\n",
      "['Name', 'Telephone Numer ', 'Date of Birth ', 'E-mail Address ']\n",
      "loading up ECS 7th Gd Grammar Div. Green \n",
      "incrementing\n",
      "incrementing\n",
      "incrementing\n",
      "['Name', 'Telephone Numer ', 'Date of Birth ', 'E-mail Address ']\n",
      "loading up ECS 7th Gd. Grammar White Team \n",
      "incrementing\n",
      "incrementing\n",
      "incrementing\n",
      "['Name', 'Telephone Numer ', 'Date of Birth ', 'E-mail Address ']\n",
      "loading up ECS 8th Grade - Grammar\n",
      "incrementing\n",
      "incrementing\n",
      "incrementing\n",
      "['Name', 'Telephone Numer ', 'Date of Birth ', 'E-mail Address ']\n",
      "loading up ECS - Girls \n",
      "incrementing\n",
      "incrementing\n",
      "incrementing\n",
      "['Name', 'Telephone Numer ', 'Date of Birth ', 'E-mail Address ']\n",
      "loading up HCS -3rd Grade Small Fry\n",
      "incrementing\n",
      "incrementing\n",
      "incrementing\n",
      "['Name', 'Telephone Numer ', 'Date of Birth ', 'E-mail Address ']\n",
      "loading up HCS - 4th grade - Small Fry\n",
      "incrementing\n",
      "incrementing\n",
      "incrementing\n",
      "['Name', 'Telephone Numer ', 'Date of Birth ', 'E-mail Address ']\n",
      "loading up HCS- 5th Grade - Middle Div.\n",
      "incrementing\n",
      "incrementing\n",
      "incrementing\n",
      "['Name', 'Telephone Numer ', 'Date of Birth ', 'E-mail Address ']\n",
      "loading up HSC - 6th Grade - Middle Div.\n",
      "incrementing\n",
      "incrementing\n",
      "incrementing\n",
      "['Name', 'Telephone Numer ', 'Date of Birth ', 'E-mail Address ']\n",
      "loading up HCS - 7th grade - Grammar Div.\n",
      "incrementing\n",
      "incrementing\n",
      "incrementing\n",
      "['Name', 'Telephone Numer ', 'Date of Birth ', 'E-mail Address ']\n",
      "loading up HCS- 8th Grade - Grammar Div\n",
      "incrementing\n",
      "incrementing\n",
      "incrementing\n",
      "['Name', 'Telephone Numer ', 'Date of Birth ', 'E-mail Address ']\n",
      "loading up HOLA - 3rd Grade - Small Fry\n",
      "incrementing\n",
      "incrementing\n",
      "incrementing\n",
      "['Name', 'Telephone Numer ', 'Date of Birth ', 'E-mail Address ']\n",
      "loading up HOLA - 4th Grade - Small Fry\n",
      "incrementing\n",
      "incrementing\n",
      "incrementing\n",
      "['Name', 'Telephone Numer ', 'Date of Birth ', 'E-mail Address ']\n",
      "loading up  HOLA - 5th Grade - Grammar\n",
      "incrementing\n",
      "incrementing\n",
      "incrementing\n",
      "['Name', 'Telephone Numer ', 'Date of Birth ', 'E-mail Address ']\n",
      "loading up  HOLA - 6th Grade - Grammar \n",
      "incrementing\n",
      "incrementing\n",
      "incrementing\n",
      "['Name', 'Telephone Numer ', 'Date of Birth ', 'E-mail Address ']\n",
      "loading up HOLA - Grammar\n",
      "incrementing\n",
      "incrementing\n",
      "incrementing\n",
      "['Name', 'Telephone Numer ', 'Date of Birth ', 'E-mail Address ']\n",
      "loading up HOLA - Girls \n",
      "incrementing\n",
      "incrementing\n",
      "incrementing\n",
      "['Name', 'Telephone Numer ', 'Date of Birth ', 'E-mail Address ']\n"
     ]
    }
   ],
   "source": [
    "obj = {}\n",
    "for sheet in sheets:\n",
    "    df = getDF(sheet)\n",
    "    dicts = json.loads(df.to_json(orient='records'))\n",
    "    i = 0\n",
    "    while i < len(dicts):\n",
    "        for attribute in ['Telephone Number', 'E-mail Address']:\n",
    "            if attribute not in dicts[i]:\n",
    "                dicts[i][attribute] = 'null'\n",
    "            elif dicts[i][attribute] == 'None':\n",
    "                dicts[i][attribute] = 'null'\n",
    "        i += 1\n",
    "                \n",
    "    obj[sheet.strip()] = dicts"
   ]
  },
  {
   "cell_type": "code",
   "execution_count": 273,
   "metadata": {},
   "outputs": [],
   "source": [
    "with open('cleaned_files/rosters.json', 'w') as outfile:\n",
    "    json.dump(obj, outfile)"
   ]
  },
  {
   "cell_type": "markdown",
   "metadata": {},
   "source": [
    "## Second Roster"
   ]
  },
  {
   "cell_type": "code",
   "execution_count": 275,
   "metadata": {},
   "outputs": [],
   "source": [
    "filename = 'data/instructionalroster.xlsx'\n",
    "sheets = pd.ExcelFile(filename).sheet_names\n"
   ]
  },
  {
   "cell_type": "code",
   "execution_count": 278,
   "metadata": {},
   "outputs": [
    {
     "name": "stdout",
     "output_type": "stream",
     "text": [
      "loading up Instructional Basketball Roster\n",
      "incrementing\n",
      "incrementing\n",
      "incrementing\n",
      "incrementing\n",
      "incrementing\n",
      "incrementing\n",
      "incrementing\n",
      "incrementing\n",
      "incrementing\n",
      "['Name', 'Family ID', 'Phone', 'RPG Work Phone', 'RPG Mobile Phone', 'Email', 'Gr', 'DOB', 'Reg Date']\n"
     ]
    }
   ],
   "source": [
    "df = getDF(sheets[0])"
   ]
  },
  {
   "cell_type": "code",
   "execution_count": 285,
   "metadata": {},
   "outputs": [],
   "source": [
    "df.columns = map(lambda x: x.strip(), df.columns)\n",
    "\n",
    "obj = json.loads(df.to_json(orient='records'))\n",
    "with open('cleaned_files/instructionalRoster.json', 'w') as outfile:\n",
    "    json.dump(obj, outfile)"
   ]
  },
  {
   "cell_type": "code",
   "execution_count": 284,
   "metadata": {},
   "outputs": [],
   "source": []
  },
  {
   "cell_type": "code",
   "execution_count": null,
   "metadata": {},
   "outputs": [],
   "source": []
  }
 ],
 "metadata": {
  "kernelspec": {
   "display_name": "Python 3",
   "language": "python",
   "name": "python3"
  },
  "language_info": {
   "codemirror_mode": {
    "name": "ipython",
    "version": 3
   },
   "file_extension": ".py",
   "mimetype": "text/x-python",
   "name": "python",
   "nbconvert_exporter": "python",
   "pygments_lexer": "ipython3",
   "version": "3.6.4"
  }
 },
 "nbformat": 4,
 "nbformat_minor": 2
}
